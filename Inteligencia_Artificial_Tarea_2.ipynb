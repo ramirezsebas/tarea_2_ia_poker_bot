{
  "nbformat": 4,
  "nbformat_minor": 0,
  "metadata": {
    "colab": {
      "provenance": []
    },
    "kernelspec": {
      "name": "python3",
      "display_name": "Python 3"
    },
    "language_info": {
      "name": "python"
    }
  },
  "cells": [
    {
      "cell_type": "markdown",
      "source": [
        "Tarea 2 - Inteligencia Artificial"
      ],
      "metadata": {
        "id": "5oDUHFMgt6mN"
      }
    },
    {
      "cell_type": "markdown",
      "source": [
        "Integrantes:\n",
        "- Matias Gonzalez\n",
        "- Matias Ramirez"
      ],
      "metadata": {
        "id": "pyV07WMQt1v9"
      }
    },
    {
      "cell_type": "code",
      "source": [
        "import random\n",
        "import pandas as pd\n",
        "\n",
        "# ---------- Definición de la Mesa ----------\n",
        "class Mesa:\n",
        "    def __init__(self):\n",
        "        self.cartas = self.generar_baraja()\n",
        "        self.comunes = []\n",
        "        self.bote = 0\n",
        "\n",
        "    @staticmethod\n",
        "    def generar_baraja():\n",
        "        valores = ['2', '3', '4', '5', '6', '7', '8', '9', '10', 'J', 'Q', 'K', 'A']\n",
        "        palos = ['h', 'd', 'c', 's']\n",
        "        return [f\"{valor}{palo}\" for valor in valores for palo in palos]\n",
        "\n",
        "    def repartir_mano(self):\n",
        "        return [self.cartas.pop(random.randint(0, len(self.cartas) - 1)) for _ in range(2)]\n",
        "\n",
        "    def repartir_comunes(self, num):\n",
        "        self.comunes.extend([self.cartas.pop(random.randint(0, len(self.cartas) - 1)) for _ in range(num)])\n",
        "\n",
        "# ---------- Definición del Jugador ----------\n",
        "class Jugador:\n",
        "    def __init__(self, nombre, fichas=1000, es_bot=False):\n",
        "        self.nombre = nombre\n",
        "        self.fichas = fichas\n",
        "        self.mano = None\n",
        "        self.es_bot = es_bot\n",
        "\n",
        "    def recibir_mano(self, mano):\n",
        "        \"\"\"Asigna una mano al jugador.\"\"\"\n",
        "        self.mano = mano\n",
        "\n",
        "    def decidir_accion(self, mesa, q, limite):\n",
        "        if self.es_bot:\n",
        "            return decidir_accion_bot(self, mesa, q, limite)\n",
        "        else:\n",
        "            # Lógica para el jugador humano (por simplificar, este se ha omitido aquí)\n",
        "            pass\n",
        "\n",
        "# ---------- Definición de la Ronda ----------\n",
        "class Ronda:\n",
        "    def __init__(self, mesa, q, limite):\n",
        "        self.mesa = mesa\n",
        "        self.jugadores = []\n",
        "        self.apuestas = {}\n",
        "        self.q = q\n",
        "        self.limite = limite\n",
        "\n",
        "    def agregar_jugador(self, jugador):\n",
        "        self.jugadores.append(jugador)\n",
        "        self.apuestas[jugador] = 0\n",
        "\n",
        "    def apostar(self, jugador, cantidad):\n",
        "        self.mesa.bote += cantidad\n",
        "        self.apuestas[jugador] += cantidad\n",
        "\n",
        "    def jugar(self):\n",
        "        for jugador in self.jugadores:\n",
        "            jugador.recibir_mano(self.mesa.repartir_mano())\n",
        "        num_cartas_comunes = [0, 3, 1, 1]\n",
        "        for i in range(4):\n",
        "            self.mesa.repartir_comunes(num_cartas_comunes[i])\n",
        "            for jugador in self.jugadores:\n",
        "                accion = jugador.decidir_accion(self.mesa, self.q, self.limite)\n",
        "                if accion == \"fold\":\n",
        "                    self.jugadores.remove(jugador)\n",
        "                elif accion == \"all-in\":\n",
        "                    self.apostar(jugador, jugador.fichas)\n",
        "                    jugador.fichas = 0\n",
        "                else:\n",
        "                    self.apostar(jugador, accion)\n",
        "                    jugador.fichas -= accion\n",
        "        # Lógica para determinar el ganador (simplificada)\n",
        "        ganador = random.choice(self.jugadores)  # Aquí se ha simplificado eligiendo al azar\n",
        "        ganador.fichas += self.mesa.bote\n",
        "\n",
        "# ---------- Funciones auxiliares ----------\n",
        "def obtener_probabilidad_pre_flop(mano):\n",
        "    mano_str = ''.join(sorted([card[0] for card in mano]))\n",
        "    if mano[0][0] == mano[1][0]:  # Es un par\n",
        "        matched_rows = df_probabilidades[df_probabilidades['Cards'] == mano_str]\n",
        "    else:\n",
        "        if mano[0][1] == mano[1][1]:  # Las cartas son del mismo palo\n",
        "            mano_str += 's'\n",
        "            matched_rows = df_probabilidades[df_probabilidades['Cards'] == mano_str]\n",
        "        else:\n",
        "            mano_str += 'o'\n",
        "            matched_rows = df_probabilidades[df_probabilidades['Cards'] == mano_str]\n",
        "\n",
        "    if matched_rows.empty:\n",
        "        print(f\"No se encontró la mano: {mano_str} en el DataFrame\")\n",
        "        return 0.0\n",
        "\n",
        "    probabilidad = matched_rows['Rank'].values[0]\n",
        "    probabilidad /= 169.0\n",
        "    return probabilidad\n",
        "\n",
        "def decidir_accion_bot(jugador, mesa, q, limite):\n",
        "    probabilidad = obtener_probabilidad_pre_flop(jugador.mano) if len(mesa.comunes) == 0 else 0.5\n",
        "    if random.random() < q:  # Estrategia probabilística\n",
        "        if probabilidad > 0.8:\n",
        "            return min(limite * 0.75, jugador.fichas)\n",
        "        elif probabilidad < 0.1:\n",
        "            return \"fold\"\n",
        "        else:\n",
        "            return min(limite * 0.5, jugador.fichas)\n",
        "    else:  # Estrategia mentirosa\n",
        "        return min(limite, jugador.fichas)\n",
        "\n",
        "# ---------- Juego principal ----------\n",
        "def jugar_poker():\n",
        "    mesa = Mesa()\n",
        "    q = 0.5\n",
        "    limite = 100\n",
        "    jugador1 = Jugador(\"Jugador1\", es_bot=True)\n",
        "    jugador2 = Jugador(\"Jugador2\", es_bot=True)\n",
        "    ronda = Ronda(mesa, q, limite)\n",
        "    ronda.agregar_jugador(jugador1)\n",
        "    ronda.agregar_jugador(jugador2)\n",
        "    ronda.jugar()\n",
        "    print(f\"Fichas de {jugador1.nombre}: {jugador1.fichas}\")\n",
        "    print(f\"Fichas de {jugador2.nombre}: {jugador2.fichas}\")\n",
        "\n",
        "# Carga la matriz de probabilidades\n",
        "columnas = [\"Rank\", \"Cards\", \"Type\"]\n",
        "df_probabilidades = pd.read_csv('https://raw.githubusercontent.com/BrenoCPimenta/Poker-preflop-hand-rank-scraping-to-csv/master/preFlop-rank.csv', header=None, names=columnas)\n",
        "\n",
        "# Ejecuta el juego\n",
        "jugar_poker()\n"
      ],
      "metadata": {
        "colab": {
          "base_uri": "https://localhost:8080/"
        },
        "id": "lKcjbOROlsdH",
        "outputId": "51111f43-5dab-4c70-c867-3bffc40b9035"
      },
      "execution_count": null,
      "outputs": [
        {
          "output_type": "stream",
          "name": "stdout",
          "text": [
            "No se encontró la mano: 29o en el DataFrame\n",
            "Fichas de Jugador1: 1000\n",
            "Fichas de Jugador2: 1000.0\n"
          ]
        }
      ]
    },
    {
      "cell_type": "markdown",
      "source": [],
      "metadata": {
        "id": "2rLCwfEttzYz"
      }
    }
  ]
}